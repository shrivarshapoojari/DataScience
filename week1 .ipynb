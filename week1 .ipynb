{
 "cells": [
  {
   "cell_type": "code",
   "execution_count": 1,
   "id": "1af9f0bc-34e8-4fd5-b013-4f79ca959f72",
   "metadata": {
    "tags": []
   },
   "outputs": [],
   "source": [
    "1\n",
    "s=\"Shri\"\n",
    "li=[1,2,\"Shri\",True]\n",
    "f=1.233\n",
    "ti=(1 ,2, \"a\")\n"
   ]
  },
  {
   "cell_type": "markdown",
   "id": "2716854b-399f-4841-8e62-3cd0afdab77a",
   "metadata": {
    "tags": []
   },
   "source": [
    "\n",
    "2\n",
    "var1=String\n",
    "var2 =str\n",
    "var3 =list\n",
    "va4 =int"
   ]
  },
  {
   "cell_type": "code",
   "execution_count": 6,
   "id": "9347d833-989e-497a-91bc-21add14529b5",
   "metadata": {
    "tags": []
   },
   "outputs": [
    {
     "data": {
      "text/plain": [
       "str"
      ]
     },
     "execution_count": 6,
     "metadata": {},
     "output_type": "execute_result"
    }
   ],
   "source": [
    " 3\n",
    "    4/3 =1.33\n",
    "    4/3=1\n",
    "    4%3=1\n",
    "    4**3=65"
   ]
  },
  {
   "cell_type": "code",
   "execution_count": 8,
   "id": "546a207d-b934-43c5-bc5a-eafd0899bc0b",
   "metadata": {
    "tags": []
   },
   "outputs": [
    {
     "name": "stdout",
     "output_type": "stream",
     "text": [
      "1\n",
      "2\n",
      "3\n",
      "a\n",
      "True\n"
     ]
    }
   ],
   "source": [
    "li=[1, 2, 3,\"a\", True]\n",
    "i=1\n",
    "for i in li :\n",
    "    print(i)"
   ]
  },
  {
   "cell_type": "code",
   "execution_count": 20,
   "id": "ed3849d6-cff9-4f9a-a005-333a2506753a",
   "metadata": {
    "tags": []
   },
   "outputs": [
    {
     "name": "stdout",
     "output_type": "stream",
     "text": [
      "1  is  not divisible by 3\n",
      "2  is  not divisible by 3\n",
      "3  is divisible by 3\n",
      "4  is  not divisible by 3\n",
      "5  is  not divisible by 3\n",
      "6  is divisible by 3\n",
      "7  is  not divisible by 3\n",
      "8  is  not divisible by 3\n",
      "9  is divisible by 3\n",
      "10  is  not divisible by 3\n",
      "11  is  not divisible by 3\n",
      "12  is divisible by 3\n",
      "13  is  not divisible by 3\n",
      "14  is  not divisible by 3\n",
      "15  is divisible by 3\n",
      "16  is  not divisible by 3\n",
      "17  is  not divisible by 3\n",
      "18  is divisible by 3\n",
      "19  is  not divisible by 3\n",
      "20  is  not divisible by 3\n",
      "21  is divisible by 3\n",
      "22  is  not divisible by 3\n",
      "23  is  not divisible by 3\n",
      "24  is divisible by 3\n",
      "25  is  not divisible by 3\n"
     ]
    }
   ],
   "source": [
    "li = list(range(1,26))\n",
    "for i in li :\n",
    "    if i%3==0:\n",
    "        print(i ,\" is divisible by 3\")\n",
    "    else :\n",
    "         print(i ,\" is  not divisible by 3\")"
   ]
  },
  {
   "cell_type": "markdown",
   "id": "76a26783-c0d1-4881-9eca-3b3eafa0904f",
   "metadata": {},
   "source": [
    " mutable datavalues can be changed. immutable datavalues cant be changed. "
   ]
  }
 ],
 "metadata": {
  "kernelspec": {
   "display_name": "Python 3 (ipykernel)",
   "language": "python",
   "name": "python3"
  },
  "language_info": {
   "codemirror_mode": {
    "name": "ipython",
    "version": 3
   },
   "file_extension": ".py",
   "mimetype": "text/x-python",
   "name": "python",
   "nbconvert_exporter": "python",
   "pygments_lexer": "ipython3",
   "version": "3.11.3"
  }
 },
 "nbformat": 4,
 "nbformat_minor": 5
}
