{
 "cells": [
  {
   "cell_type": "markdown",
   "id": "2465094c-a6d6-471b-8253-687459b8a723",
   "metadata": {},
   "source": [
    "#this is comment..\n",
    "\"\"\" This is multiline comment\""
   ]
  },
  {
   "cell_type": "raw",
   "id": "49a8c5d8-e6c3-4bea-bd43-51c06889fccc",
   "metadata": {},
   "source": [
    "Variables are used to store values.\n",
    "Declare variable\n",
    "  x=4;"
   ]
  },
  {
   "cell_type": "markdown",
   "id": "2b3c8c30-96d0-4b78-9642-c672eb1d90a2",
   "metadata": {},
   "source": [
    "3.\n",
    "a= True\n",
    "b=int(a)"
   ]
  },
  {
   "cell_type": "code",
   "execution_count": 1,
   "id": "8cead57e-b8f4-45a8-a14a-277d49873041",
   "metadata": {
    "tags": []
   },
   "outputs": [
    {
     "data": {
      "text/plain": [
       "[2, 3]"
      ]
     },
     "execution_count": 1,
     "metadata": {},
     "output_type": "execute_result"
    }
   ],
   "source": [
    "#5\n",
    "mylist=[1,2,3,4,5]\n",
    "mylist[1:3]"
   ]
  },
  {
   "cell_type": "raw",
   "id": "d68a94da-10fb-463e-8392-f2948dceaf60",
   "metadata": {},
   "source": [
    "#6\n",
    "# complex number has imaginary part in it\n",
    "    2+3j"
   ]
  },
  {
   "cell_type": "raw",
   "id": "5419aa3a-fc32-408d-b98f-621868f5f9cd",
   "metadata": {},
   "source": [
    "#7\n",
    "a=25"
   ]
  },
  {
   "cell_type": "raw",
   "id": "ef78580f-3c27-4126-be85-c737cd1a85b3",
   "metadata": {},
   "source": [
    "#8\n",
    "price=9.99\n",
    "it is float"
   ]
  },
  {
   "cell_type": "raw",
   "id": "47c775d1-f9ca-406c-b794-a787b9f36b7d",
   "metadata": {},
   "source": [
    "#9\n",
    "name=\"Shrivarsha\"\n",
    " for i in name :\n",
    " print(i)"
   ]
  },
  {
   "cell_type": "code",
   "execution_count": 2,
   "id": "c28ab8f1-e339-43b6-aa93-75418082fd47",
   "metadata": {
    "tags": []
   },
   "outputs": [],
   "source": [
    "b=\"Hello World\""
   ]
  },
  {
   "cell_type": "code",
   "execution_count": 4,
   "id": "2dcbff79-aa44-4ee7-880f-df523926374b",
   "metadata": {
    "tags": []
   },
   "outputs": [
    {
     "data": {
      "text/plain": [
       "' World'"
      ]
     },
     "execution_count": 4,
     "metadata": {},
     "output_type": "execute_result"
    }
   ],
   "source": [
    "b[5:]"
   ]
  },
  {
   "cell_type": "code",
   "execution_count": null,
   "id": "be8421d9-c381-4259-939f-1e91a7cede74",
   "metadata": {},
   "outputs": [],
   "source": [
    "#11\n",
    "_is student=True\n"
   ]
  }
 ],
 "metadata": {
  "kernelspec": {
   "display_name": "Python 3 (ipykernel)",
   "language": "python",
   "name": "python3"
  },
  "language_info": {
   "codemirror_mode": {
    "name": "ipython",
    "version": 3
   },
   "file_extension": ".py",
   "mimetype": "text/x-python",
   "name": "python",
   "nbconvert_exporter": "python",
   "pygments_lexer": "ipython3",
   "version": "3.11.3"
  }
 },
 "nbformat": 4,
 "nbformat_minor": 5
}
